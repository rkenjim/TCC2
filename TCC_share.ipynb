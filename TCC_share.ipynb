{
 "cells": [
  {
   "cell_type": "code",
   "execution_count": null,
   "metadata": {},
   "outputs": [],
   "source": [
    "import pandas as pd\n",
    "import numpy as np\n",
    "import sys\n",
    "#from mlxtend.frequent_patterns import apriori, association_rules \n",
    "import matplotlib.pyplot as plt\n",
    "from apyori import apriori\n",
    "df4 = pd.read_excel(r'C:\\Users\\rapha\\Documents\\obitos_publico.xlsx')\n",
    "df5 = pd.read_csv(r'C:\\Users\\rapha\\Documents\\data5.csv')\n",
    "data4= pd.DataFrame(df4 ,columns=['Id da Delegacia (RDO)','Número do Bo (RDO)','Ano do BO (RDO)','Data do Óbito','Data do Acidente','Tipo de via','Dia do óbito','Mês do Óbito','Mês Óbito Descrição','Ano do Óbito','Ano/Mês do Óbito','Dia da Semana','Hora do Acidente','Turno','Município','Região Administrativa','Logradouro','Númeral / KM','Jurisdição','Administração','Conservação','Tipo do local da ocorrência','LAT_(GEO)','LONG_(GEO)','Tipo do veículo da vítima','Tipo de vítima','Local do óbito','Tipo de acidente','Sub Tipo do Acidente','Tempo entre o Acidente e o óbito','Sexo','Faixa etária','Idade da vítima','Outro Veículo Envolvido'])\n",
    "data5 = pd.DataFrame(df5 ,columns=['id_da_delegacia_rdo','numero_do_bo_rdo','tipo_de_via','municipio','regiao_administrativa',\n",
    "'tipo_de_acidente','turno','tipo_de_veiculo_da_vitima','tipo_de_vitima','idade_da_vitima','sexo','ano_mes_acidente3','numero_de_acidentes'] )"
   ]
  },
  {
   "cell_type": "code",
   "execution_count": null,
   "metadata": {},
   "outputs": [],
   "source": [
    "basket_limeira = (data5[data5['municipio']==\"LIMEIRA\"].groupby(['numero_do_bo_rdo','tipo_de_acidente'])['numero_de_acidentes'].sum().unstack().reset_index().fillna(0).set_index('numero_do_bo_rdo'))\n",
    "basket_araras = (data5[data5['municipio']==\"ARARAS\"].groupby(['numero_do_bo_rdo','tipo_de_acidente'])['numero_de_acidentes'].sum().unstack().reset_index().fillna(0).set_index('numero_do_bo_rdo'))\n",
    "basket_conchal = (data5[data5['municipio']==\"CONCHAL\"].groupby(['numero_do_bo_rdo','tipo_de_acidente'])['numero_de_acidentes'].sum().unstack().reset_index().fillna(0).set_index('numero_do_bo_rdo'))\n",
    "basket_cordeiropolis = (data5[data5['municipio']==\"CORDEIROPOLIS\"].groupby(['numero_do_bo_rdo','tipo_de_acidente'])['numero_de_acidentes'].sum().unstack().reset_index().fillna(0).set_index('numero_do_bo_rdo'))\n",
    "basket_leme = (data5[data5['municipio']==\"LEME\"].groupby(['numero_do_bo_rdo','tipo_de_acidente'])['numero_de_acidentes'].sum().unstack().reset_index().fillna(0).set_index('numero_do_bo_rdo'))\n",
    "basket_pirassununga = (data5[data5['municipio']==\"PIRASSUNUNGA\"].groupby(['numero_do_bo_rdo','tipo_de_acidente'])['numero_de_acidentes'].sum().unstack().reset_index().fillna(0).set_index('numero_do_bo_rdo'))\n",
    "basket_santa_cruz = (data5[data5['municipio']==\"SANTA CRUZ DA CONCEICAO\"].groupby(['numero_do_bo_rdo','tipo_de_acidente'])['numero_de_acidentes'].sum().unstack().reset_index().fillna(0).set_index('numero_do_bo_rdo'))"
   ]
  },
  {
   "cell_type": "code",
   "execution_count": null,
   "metadata": {},
   "outputs": [],
   "source": [
    "def hot_encode(x): \n",
    "    if(x<= 0): \n",
    "        return 0\n",
    "    if(x>= 1): \n",
    "        return 1\n",
    "basket_encoded = basket_limeira.applymap(hot_encode) \n",
    "basket_limeira = basket_encoded \n",
    "\n",
    "basket_encoded = basket_araras.applymap(hot_encode) \n",
    "basket_araras = basket_encoded \n",
    "\n",
    "basket_encoded = basket_conchal.applymap(hot_encode) \n",
    "basket_conchal = basket_encoded \n",
    "\n",
    "basket_encoded = basket_cordeiropolis.applymap(hot_encode) \n",
    "basket_cordeiropolis = basket_encoded \n",
    "\n",
    "basket_encoded = basket_leme.applymap(hot_encode) \n",
    "basket_leme = basket_encoded \n",
    "\n",
    "basket_encoded = basket_pirassununga.applymap(hot_encode) \n",
    "basket_pirassununga = basket_encoded \n",
    "\n",
    "basket_encoded = basket_santa_cruz.applymap(hot_encode) \n",
    "basket_santa_cruz = basket_encoded "
   ]
  },
  {
   "cell_type": "code",
   "execution_count": null,
   "metadata": {},
   "outputs": [],
   "source": [
    "#frq_items = apriori(basket_limeira, min_support = 0.05, use_colnames = True) \n",
    "#rules = association_rules(frq_items, metric =\"lift\", min_threshold = 1) \n",
    "#rules = rules.sort_values(['confidence', 'lift'], ascending =[False, False])\n",
    "#print(rules.head()) \n",
    "frq_items = apriori(basket_limeira,  min_support=0.0045, min_confidence=0.2, min_lift=3, min_length=2) \n",
    "association_results = list(frq_items)\n",
    "for item in frq_items:\n",
    "    # first index of the inner list\n",
    "    # Contains base item and add item\n",
    "    pair = item[0] \n",
    "    items = [x for x in pair]\n",
    "    print(\"Rule: \" + items[0] + \" -> \" + items[1])\n",
    "\n",
    "    #second index of the inner list\n",
    "    print(\"Support: \" + str(item[1]))\n",
    "\n",
    "    #third index of the list located at 0th\n",
    "    #of the third index of the inner list\n",
    "\n",
    "    print(\"Confidence: \" + str(item[2][0][2]))\n",
    "    print(\"Lift: \" + str(item[2][0][3]))\n",
    "    print(\"=====================================\")\n",
    "\n"
   ]
  }
 ],
 "metadata": {
  "kernelspec": {
   "display_name": "Python 3",
   "language": "python",
   "name": "python3"
  },
  "language_info": {
   "codemirror_mode": {
    "name": "ipython",
    "version": 3
   },
   "file_extension": ".py",
   "mimetype": "text/x-python",
   "name": "python",
   "nbconvert_exporter": "python",
   "pygments_lexer": "ipython3",
   "version": "3.7.6"
  }
 },
 "nbformat": 4,
 "nbformat_minor": 4
}
